{
 "cells": [
  {
   "cell_type": "code",
   "execution_count": 66,
   "metadata": {},
   "outputs": [],
   "source": [
    "import numpy as np\n",
    "from scipy.stats import wishart"
   ]
  },
  {
   "cell_type": "code",
   "execution_count": 67,
   "metadata": {},
   "outputs": [],
   "source": [
    "def ranking_matrix(N, M, filename, sep=\"\t\"):\n",
    "    \n",
    "    R = np.zeros((N, M))\n",
    "    I = np.zeros((N, M))\n",
    "    f = open(filename,\"r\")\n",
    "    for line in f:\n",
    "        if line[0] == '%':\n",
    "            # this is a comment\n",
    "            continue\n",
    "        (user, movie, ranking,_) = line.split(sep)\n",
    "        R[np.int(user) - 1, np.int(movie) - 1] = np.int(ranking)\n",
    "        I[np.int(user) - 1, np.int(movie) - 1] = 1.0\n",
    "    return R, I"
   ]
  },
  {
   "cell_type": "code",
   "execution_count": 68,
   "metadata": {},
   "outputs": [],
   "source": [
    "K = 50\n",
    "N = 943\n",
    "M = 1682"
   ]
  },
  {
   "cell_type": "code",
   "execution_count": 69,
   "metadata": {},
   "outputs": [],
   "source": [
    "R, I = ranking_matrix(N, M, \"u1.base\")\n"
   ]
  },
  {
   "cell_type": "code",
   "execution_count": 70,
   "metadata": {},
   "outputs": [],
   "source": [
    "mu0 = np.zeros(K)\n",
    "uv0 = K\n",
    "WU0 = np.eye(K)\n",
    "mv0 = np.zeros(K)\n",
    "vv0 = K\n",
    "WV0 = np.eye(K)\n",
    "beta0 = 1.0\n",
    "alpha = 2.0"
   ]
  },
  {
   "cell_type": "code",
   "execution_count": 71,
   "metadata": {},
   "outputs": [],
   "source": [
    "lambdaU = wishart.rvs(size = 1,df = uv0, scale = WU0)\n",
    "muU = np.random.multivariate_normal(mu0, np.linalg.pinv(beta0 * lambdaU))\n",
    "lambdaV = wishart.rvs(size = 1,df = vv0, scale = WV0)\n",
    "muV = np.random.multivariate_normal(mv0, np.linalg.pinv(beta0 * lambdaV))"
   ]
  },
  {
   "cell_type": "code",
   "execution_count": 72,
   "metadata": {},
   "outputs": [],
   "source": [
    "U = np.random.multivariate_normal(muU ,lambdaU , N)\n",
    "V = np.random.multivariate_normal(muV ,lambdaV , M)"
   ]
  },
  {
   "cell_type": "code",
   "execution_count": 73,
   "metadata": {},
   "outputs": [
    {
     "data": {
      "text/plain": [
       "array([[ 9.16837786e+00,  3.73709645e+00,  1.56889463e+01, ...,\n",
       "         2.91836135e+00,  2.47331281e+00,  6.03701953e+00],\n",
       "       [ 1.08843321e+01,  1.00743717e+01, -3.51035978e-01, ...,\n",
       "         5.75416616e+00,  8.91718572e+00,  1.38156225e+00],\n",
       "       [ 2.76294488e+00,  1.18287429e-01,  1.10392522e+01, ...,\n",
       "         7.43106610e+00, -2.00950182e+00, -4.18055287e+00],\n",
       "       ...,\n",
       "       [ 1.11614815e+01, -1.06467514e+01,  1.44485437e+01, ...,\n",
       "         2.39703705e+00, -2.65086434e+00,  8.25205203e-01],\n",
       "       [-1.44427893e+00,  7.23232074e+00, -3.54189237e+00, ...,\n",
       "         2.52995274e+00,  8.41237284e+00,  4.82502950e+00],\n",
       "       [-1.61660735e+00,  3.85688164e-01,  1.35597553e+01, ...,\n",
       "         6.44267081e+00, -3.78270389e-03, -9.36149811e+00]])"
      ]
     },
     "execution_count": 73,
     "metadata": {},
     "output_type": "execute_result"
    }
   ],
   "source": [
    "U"
   ]
  },
  {
   "cell_type": "code",
   "execution_count": 74,
   "metadata": {},
   "outputs": [],
   "source": [
    "VVT = np.zeros((M , K, K))\n",
    "UUT = np.zeros((N , K, K))\n",
    "for i in range(M):\n",
    "    VVT[i] = V[i, :].reshape(K, 1) @ V[i ,:].reshape(1, K)\n",
    "for i in range(N):\n",
    "    UUT[i] = U[i, :].reshape(K, 1) @ U[i ,:].reshape(1,K)"
   ]
  },
  {
   "cell_type": "code",
   "execution_count": 76,
   "metadata": {},
   "outputs": [
    {
     "name": "stdout",
     "output_type": "stream",
     "text": [
      "1\n",
      "2\n",
      "3\n",
      "4\n",
      "5\n",
      "6\n",
      "7\n",
      "8\n",
      "9\n",
      "10\n",
      "11\n",
      "12\n",
      "13\n",
      "14\n",
      "15\n",
      "16\n",
      "17\n",
      "18\n",
      "19\n",
      "20\n",
      "21\n",
      "22\n",
      "23\n",
      "24\n",
      "25\n",
      "26\n",
      "27\n",
      "28\n",
      "29\n",
      "30\n",
      "31\n",
      "32\n",
      "33\n",
      "34\n",
      "35\n",
      "36\n",
      "37\n",
      "38\n",
      "39\n",
      "40\n",
      "41\n",
      "42\n",
      "43\n",
      "44\n",
      "45\n",
      "46\n",
      "47\n",
      "48\n",
      "49\n",
      "50\n",
      "51\n",
      "52\n",
      "53\n",
      "54\n",
      "55\n",
      "56\n",
      "57\n",
      "58\n",
      "59\n",
      "60\n",
      "61\n",
      "62\n",
      "63\n",
      "64\n",
      "65\n",
      "66\n",
      "67\n",
      "68\n",
      "69\n",
      "70\n",
      "71\n",
      "72\n",
      "73\n",
      "74\n",
      "75\n",
      "76\n",
      "77\n",
      "78\n",
      "79\n",
      "80\n",
      "81\n",
      "82\n",
      "83\n",
      "84\n",
      "85\n",
      "86\n",
      "87\n",
      "88\n",
      "89\n",
      "90\n",
      "91\n",
      "92\n",
      "93\n",
      "94\n",
      "95\n",
      "96\n",
      "97\n",
      "98\n",
      "99\n",
      "100\n"
     ]
    }
   ],
   "source": [
    "T = 100\n",
    "\n",
    "for t in range(T):\n",
    "    Ubar = np.sum(U ,axis = 0) / N\n",
    "    SUbar = np.zeros((K ,K))\n",
    "    for i in range(N):\n",
    "        SUbar += U[i ,:].reshape(K ,1) @ U[i ,:].reshape(1 ,K)\n",
    "    SUbar /= N\n",
    "    mustar = (beta0 * mu0 + N * Ubar) / (beta0 + N)\n",
    "    betastarU = beta0 + N\n",
    "    uvstar = uv0 + N\n",
    "    UWstar = np.linalg.pinv(np.linalg.pinv(WU0) + N * SUbar + beta0 * N * (mu0 - Ubar).reshape(K ,1) @ (mu0 - Ubar).reshape(1 ,K) / betastarU)\n",
    "  \n",
    "  # Sampling lambaU and muU\n",
    "  \n",
    "    lambdaU = wishart.rvs(size = 1,df = uvstar, scale = UWstar)\n",
    "    muU = np.random.multivariate_normal(mustar, np.linalg.pinv(betastarU * lambdaU))\n",
    "  \n",
    "  #Calculating joint posterior for lambdaV and muV\n",
    "  \n",
    "    Vbar = np.sum(V ,axis = 0) / M\n",
    "    SVbar = np.zeros((K , K))\n",
    "    for j in range(M):\n",
    "        SVbar += V[i ,:].reshape(K ,1) @ V[i ,:].reshape(1 ,K)\n",
    "    SVbar /= M\n",
    "    mvstar = (beta0 * mv0 + M * Vbar) / (beta0 + M)\n",
    "    betastarV = beta0 + M\n",
    "    vvstar = vv0 + M\n",
    "    VWstar = np.linalg.pinv(np.linalg.pinv(WV0) + M * SVbar + beta0 * M * (mv0 - Vbar).reshape(K ,1) @ (mu0 - Vbar).reshape(1 ,K) / betastarV)\n",
    "  \n",
    "  # Sampling lambdaV and muV\n",
    "  \n",
    "    lambdaV = wishart.rvs(size = 1,df = vvstar, scale = VWstar)\n",
    "    muV = np.random.multivariate_normal(mvstar, np.linalg.pinv(betastarV * lambdaV))\n",
    "  \n",
    "  #Calculating Conditional Posterior for U\n",
    "  \n",
    "    for i in range(N):\n",
    "        A = np.zeros((K, K))\n",
    "        B = np.zeros(K)\n",
    "        for j in range(M):\n",
    "            A += I[i][j] * VVT[j]\n",
    "            B += R[i][j] * V[j ,:]\n",
    "        B *= alpha\n",
    "        sigmaUN = np.linalg.pinv(lambdaU + alpha * A)\n",
    "        muUN = sigmaUN @ ( B + lambdaU @ muU)\n",
    "        U[i] = np.random.multivariate_normal(muUN, sigmaUN)\n",
    "    \n",
    "    US[t] = U\n",
    "    for i in range(N):\n",
    "        UUT[i] = U[i, :].reshape(K, 1) @ U[i ,:].reshape(1,K)\n",
    "    \n",
    "  #Calculating Conditional Posterior for V\n",
    "  \n",
    "    for j in range(M):\n",
    "        A = np.zeros((K ,K))\n",
    "        B = np.zeros(K)\n",
    "        for i in range(N):\n",
    "            A += I[i][j] * UUT[i]\n",
    "            B += R[i][j] * U[i ,:]\n",
    "        B *= alpha\n",
    "        sigmaVM = np.linalg.pinv(lambdaV + alpha * A)\n",
    "        muVM = sigmaVM @ (B + lambdaV @ muV)\n",
    "        V[j] = np.random.multivariate_normal(muVM ,sigmaVM)\n",
    "\n",
    "\n",
    "    VS[t] = V\n",
    "    for i in range(M):\n",
    "        VVT[i] = V[i, :].reshape(K, 1) @ V[i ,:].reshape(1, K)\n",
    "    \n",
    "    print (t + 1)\n"
   ]
  },
  {
   "cell_type": "code",
   "execution_count": 129,
   "metadata": {},
   "outputs": [],
   "source": [
    "R_test,I_test = ranking_matrix(N, M, \"u1.test\")"
   ]
  },
  {
   "cell_type": "code",
   "execution_count": 195,
   "metadata": {},
   "outputs": [],
   "source": [
    "Y = []\n",
    "for k in range(1,11):\n",
    "    predictedR = np.zeros((N ,M))\n",
    "    for i in range(k*10):\n",
    "        predictedR += US[i] @ VS[i].T\n",
    "    predictedR /= k*10\n",
    "    predCheck =  I_test * predictedR\n",
    "    for i in range(N):\n",
    "        for j in range(M):\n",
    "            if(predCheck[i][j] > 5):\n",
    "                predCheck[i][j] = 5\n",
    "            elif(predCheck[i][j] < 1 and predCheck[i][j] != 0):\n",
    "                predCheck[i][j] = 1\n",
    "    RMSE = (np.sum((predCheck - R_test) ** 2) / np.sum(I_test)) ** 0.5\n",
    "    Y.append(RMSE)\n",
    "    "
   ]
  },
  {
   "cell_type": "code",
   "execution_count": 196,
   "metadata": {},
   "outputs": [
    {
     "data": {
      "text/plain": [
       "[1.027628703746977,\n",
       " 0.9591264829453999,\n",
       " 0.9385625524030374,\n",
       " 0.9287593734599378,\n",
       " 0.9244328533806961,\n",
       " 0.9214218520650761,\n",
       " 0.9193401201487558,\n",
       " 0.9175587782861759,\n",
       " 0.9165600826912369,\n",
       " 0.9159007825995807]"
      ]
     },
     "execution_count": 196,
     "metadata": {},
     "output_type": "execute_result"
    }
   ],
   "source": [
    "Y"
   ]
  },
  {
   "cell_type": "code",
   "execution_count": 197,
   "metadata": {},
   "outputs": [
    {
     "data": {
      "image/png": "[encoded data removed]",
      "text/plain": [
       "<Figure size 432x288 with 1 Axes>"
      ]
     },
     "metadata": {
      "needs_background": "light"
     },
     "output_type": "display_data"
    }
   ],
   "source": [
    "import matplotlib.pyplot as plt\n",
    "x = np.linspace(0,100,10)\n",
    "plt.plot(x,Y)\n",
    "plt.ylabel('RMSE')\n",
    "plt.xlabel('Number of Samples')\n",
    "plt.show()"
   ]
  },
  {
   "cell_type": "code",
   "execution_count": null,
   "metadata": {},
   "outputs": [],
   "source": []
  }
 ],
 "metadata": {
  "kernelspec": {
   "display_name": "Python 3",
   "language": "python",
   "name": "python3"
  },
  "language_info": {
   "codemirror_mode": {
    "name": "ipython",
    "version": 3
   },
   "file_extension": ".py",
   "mimetype": "text/x-python",
   "name": "python",
   "nbconvert_exporter": "python",
   "pygments_lexer": "ipython3",
   "version": "3.8.3"
  }
 },
 "nbformat": 4,
 "nbformat_minor": 4
}
